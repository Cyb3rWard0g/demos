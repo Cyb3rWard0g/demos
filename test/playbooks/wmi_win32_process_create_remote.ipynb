{
 "cells": [
  {
   "cell_type": "markdown",
   "metadata": {},
   "source": [
    "# WMI Win32_Process Class and Create Method for Remote Execution\n",
    "\n",
    "## Playbook Tags\n",
    "\n",
    "**ID:** WINEXEC190810201010\n",
    "\n",
    "**Author:** Roberto Rodriguez [@Cyb3rWard0g](https://twitter.com/Cyb3rWard0g)\n",
    "\n",
    "**References:**\n",
    "\n",
    "## ATT&CK Tags\n",
    "\n",
    "**Tactic:** Execution, Lateral Movement\n",
    "\n",
    "**Technique:** Windows Management Instrumentation (T1047)\n",
    "\n",
    "## Applies To\n",
    "\n",
    "## Technical Description\n",
    "\n",
    "WMI is the Microsoft implementation of the Web-Based Enterprise Management (WBEM) and Common Information Model (CIM). Both standards aim to provide an industry-agnostic means of collecting and transmitting information related to any managed component in an enterprise. An example of a managed component in WMI would be a running process, registry key, installed service, file information, etc. At a high level, Microsoft’s implementation of these standards can be summarized as follows: Managed Components Managed components are represented as WMI objects — class instances representing highly structured operating system data. Microsoft provides a wealth of WMI objects that communicate information related to the operating system. E.g. Win32_Process, Win32_Service, AntiVirusProduct, Win32_StartupCommand, etc.\n",
    "\n",
    "One well known lateral movement technique is performed via the WMI object — class Win32_Process and its method Create. This is because the Create method allows a user to create a process either locally or remotely. One thing to notice is that when the Create method is used on a remote system, the method is run under a host process named “Wmiprvse.exe”.\n",
    "\n",
    "The process WmiprvSE.exe is what spawns the process defined in the CommandLine parameter of the Create method. Therefore, the new process created remotely will have Wmiprvse.exe as a parent.\n",
    "WmiprvSE.exe is a DCOM server and it is spawned underneath the DCOM service host svchost.exe with the following parameters C:\\WINDOWS\\system32\\svchost.exe -k DcomLaunch -p.\n",
    "\n",
    "From a logon session perspective, on the target, WmiprvSE.exe is spawned in a different logon session by the DCOM service host. However, whatever is executed by WmiprvSE.exe occurs on the new network type (3) logon session created by the user that authenticated from the network.\n",
    "\n",
    "### Additional Reading\n",
    "\n",
    "* [Logon Session](https://github.com/Cyb3rWard0g/ThreatHunter-Playbook/tree/master/library/logon_session.md)\n",
    "\n",
    "## Permission Required\n",
    "\n",
    "User\n",
    "\n",
    "## Hypothesis\n",
    "\n",
    "Adversaries might be leveraging WMI Win32_Process class and method create to execute code remotely across my environment.\n",
    "\n",
    "## Attack Simulation Dataset\n",
    "\n",
    "| Environment| Name | Description |\n",
    "|--------|---------|---------|\n",
    "| [Shire](https://github.com/Cyb3rWard0g/mordor/tree/acf9f6be6a386783a20139ceb2faf8146378d603/environment/shire) | [empire_invoke_wmi](https://github.com/Cyb3rWard0g/mordor/blob/master/small_datasets/windows/execution/windows_management_instrumentation_T1047/empire_invoke_wmi.md) | A mordor dataset to simulate the use of of WMI Win32_Process class and method Create to execute code remotely |\n",
    "| [Shire](https://github.com/Cyb3rWard0g/mordor/tree/acf9f6be6a386783a20139ceb2faf8146378d603/environment/shire) | [empire_wmic_add_user_backdoor](https://github.com/Cyb3rWard0g/mordor/blob/master/small_datasets/windows/execution/windows_management_instrumentation_T1047/empire_wmic_add_user_backdoor.md) | A mordor dataset to simulate the use of of WMI Win32_Process class and method Create to execute code remotely |\n",
    "| [Shire](https://github.com/Cyb3rWard0g/mordor/tree/acf9f6be6a386783a20139ceb2faf8146378d603/environment/shire) | [empire_invoke_wmi_debugger](https://github.com/Cyb3rWard0g/mordor/blob/master/small_datasets/windows/execution/windows_management_instrumentation_T1047/empire_invoke_wmi_debugger.md) | A mordor dataset to simulate the use of of WMI Win32_Process class and method Create to execute code remotely |\n",
    "\n",
    "## Recommended Data Sources\n",
    "\n",
    "| Event ID | Event Name | Log Provider | Audit Category | Audit Sub-Category | ATT&CK Data Source |\n",
    "|---------|---------|----------|----------|---------|---------|\n",
    "| [4688](https://github.com/Cyb3rWard0g/OSSEM/blob/master/data_dictionaries/windows/security/events/event-4688.md) | A new process has been created | Microsoft-Windows-Security-Auditing | Detailed Tracking | Process Creation | Windows Event Logs |\n",
    "| [4624](https://github.com/Cyb3rWard0g/OSSEM/blob/master/data_dictionaries/windows/security/events/event-4624.md) | An account was successfully logged on | Microsoft-Windows-Security-Auditing | Audit Logon/Logoff | Audit Logon | Windows Event Logs |\n",
    "| [1](https://github.com/Cyb3rWard0g/OSSEM/blob/master/data_dictionaries/windows/sysmon/event-1.md) | Process Creation | Microsoft-Windows-Sysmon | | | Process Monitoring |"
   ]
  },
  {
   "cell_type": "markdown",
   "metadata": {},
   "source": [
    "## Data Analytics\n",
    "### Initialize Analytics Engine"
   ]
  },
  {
   "cell_type": "code",
   "execution_count": 1,
   "metadata": {},
   "outputs": [],
   "source": [
    "from openhunt.logparser import winlogbeat\n",
    "from pyspark.sql import SparkSession"
   ]
  },
  {
   "cell_type": "code",
   "execution_count": 2,
   "metadata": {},
   "outputs": [
    {
     "name": "stdout",
     "output_type": "stream",
     "text": [
      "<pyspark.sql.session.SparkSession object at 0x7f0f4640ffd0>\n"
     ]
    }
   ],
   "source": [
    "win = winlogbeat()\n",
    "spark = SparkSession.builder.appName(\"Mordor\").config(\"spark.sql.caseSensitive\", \"True\").getOrCreate()\n",
    "print(spark)"
   ]
  },
  {
   "cell_type": "markdown",
   "metadata": {},
   "source": [
    "#### Prepare & Process Mordor File"
   ]
  },
  {
   "cell_type": "code",
   "execution_count": 3,
   "metadata": {},
   "outputs": [
    {
     "name": "stdout",
     "output_type": "stream",
     "text": [
      "[+] Processing a Spark DataFrame..\n",
      "[+] Reading Mordor file..\n",
      "[+] Processing Data from Winlogbeat version 6..\n",
      "[+] DataFrame Returned !\n"
     ]
    }
   ],
   "source": [
    "mordor_file = win.extract_nested_fields(\"mordor/small_datasets/empire_wmic_add_user_2019-05-18231333.json\",spark)"
   ]
  },
  {
   "cell_type": "markdown",
   "metadata": {},
   "source": [
    "#### Register Mordor DataFrame as a SQL temporary view"
   ]
  },
  {
   "cell_type": "code",
   "execution_count": 4,
   "metadata": {},
   "outputs": [],
   "source": [
    "mordor_file.createOrReplaceTempView(\"mordor_file\")"
   ]
  },
  {
   "cell_type": "markdown",
   "metadata": {},
   "source": [
    "### Validate Analytic I\n",
    "| FP Rate | Source | Analytic Logic | Description |\n",
    "|--------|---------|---------|---------|\n",
    "| Medium | Security | SELECT `@timestamp`, computer_name, SubjectUserName, TargetUserName, NewProcessName, CommandLine FROM mordor_file WHERE channel = \"Security\" AND event_id = 4688 AND lower(ParentProcessName) LIKE \"%wmiprvse.exe\" AND NOT TargetLogonId = \"0x3e7\" | Look for wmiprvse.exe spawning processes that are part of non-system account sessions. |"
   ]
  },
  {
   "cell_type": "code",
   "execution_count": 5,
   "metadata": {},
   "outputs": [
    {
     "name": "stdout",
     "output_type": "stream",
     "text": [
      "+------------------------+---------------+---------------+--------------+---------------------------+------------------------------+\n",
      "|@timestamp              |computer_name  |SubjectUserName|TargetUserName|NewProcessName             |CommandLine                   |\n",
      "+------------------------+---------------+---------------+--------------+---------------------------+------------------------------+\n",
      "|2019-05-18T23:14:57.074Z|IT001.shire.com|IT001$         |pgustavo      |C:\\Windows\\System32\\net.exe|net user /add backdoor paw0rd1|\n",
      "+------------------------+---------------+---------------+--------------+---------------------------+------------------------------+\n",
      "\n"
     ]
    }
   ],
   "source": [
    "security_process_df = spark.sql(\n",
    "    '''\n",
    "    SELECT `@timestamp`, computer_name, SubjectUserName, TargetUserName, NewProcessName, CommandLine\n",
    "    FROM mordor_file\n",
    "    WHERE channel = \"Security\"\n",
    "        AND event_id = 4688\n",
    "        AND lower(ParentProcessName) LIKE \"%wmiprvse.exe\"\n",
    "        AND NOT TargetLogonId = \"0x3e7\"\n",
    "    '''\n",
    ")\n",
    "security_process_df.show(10, False)"
   ]
  },
  {
   "cell_type": "markdown",
   "metadata": {},
   "source": [
    "### Validate Analytic II\n",
    "| FP Rate | Source | Analytic Logic | Description |\n",
    "|--------|---------|---------|---------|\n",
    "| Medium | Sysmon | SELECT `@timestamp`, computer_name, User, Image, CommandLine FROM mordor_file WHERE channel = \"Microsoft-Windows-Sysmon/Operational\" AND event_id = 1 AND lower(ParentImage) LIKE \"%wmiprvse.exe\" AND NOT LogonId = \"0x3e7\" | Look for wmiprvse.exe spawning processes that are part of non-system account sessions. |"
   ]
  },
  {
   "cell_type": "code",
   "execution_count": 6,
   "metadata": {},
   "outputs": [
    {
     "name": "stdout",
     "output_type": "stream",
     "text": [
      "+------------------------+---------------+--------------+---------------------------+------------------------------+\n",
      "|@timestamp              |computer_name  |User          |Image                      |CommandLine                   |\n",
      "+------------------------+---------------+--------------+---------------------------+------------------------------+\n",
      "|2019-05-18T23:14:57.079Z|IT001.shire.com|SHIRE\\pgustavo|C:\\Windows\\System32\\net.exe|net user /add backdoor paw0rd1|\n",
      "+------------------------+---------------+--------------+---------------------------+------------------------------+\n",
      "\n"
     ]
    }
   ],
   "source": [
    "sysmon_process_df = spark.sql(\n",
    "    '''\n",
    "    SELECT `@timestamp`, computer_name, User, Image, CommandLine\n",
    "    FROM mordor_file\n",
    "    WHERE channel = \"Microsoft-Windows-Sysmon/Operational\"\n",
    "        AND event_id = 1\n",
    "        AND lower(ParentImage) LIKE \"%wmiprvse.exe\"\n",
    "        AND NOT LogonId = \"0x3e7\"\n",
    "    '''\n",
    ")\n",
    "sysmon_process_df.show(10,False)"
   ]
  },
  {
   "cell_type": "markdown",
   "metadata": {},
   "source": [
    "### Validate Analytic III\n",
    "| FP Rate | Source | Analytic Logic | Description |\n",
    "|--------|---------|---------|---------|\n",
    "| Low | Security | SELECT o.`@timestamp`, o.computer_name, o.SubjectUserName, o.TargetUserName, o.NewProcessName, o.CommandLine, a.IpAddress FROM mordor_file o INNER JOIN (SELECT computer_name,TargetUserName,TargetLogonId,IpAddress FROM mordor_file WHERE channel = \"Security\" AND LogonType = 3 AND IpAddress is not null AND NOT TargetUserName LIKE \"%$\") a ON o.TargetLogonId = a.TargetLogonId WHERE o.channel = \"Security\" AND o.event_id = 4688 AND lower(o.ParentProcessName) LIKE \"\\%wmiprvse.exe\" AND NOT o.TargetLogonId = \"0x3e7\" | Look for non-system accounts leveraging WMI over the netwotk to execute code |"
   ]
  },
  {
   "cell_type": "code",
   "execution_count": 7,
   "metadata": {},
   "outputs": [
    {
     "name": "stdout",
     "output_type": "stream",
     "text": [
      "+------------------------+---------------+---------------+--------------+---------------------------+------------------------------+-------------+\n",
      "|@timestamp              |computer_name  |SubjectUserName|TargetUserName|NewProcessName             |CommandLine                   |IpAddress    |\n",
      "+------------------------+---------------+---------------+--------------+---------------------------+------------------------------+-------------+\n",
      "|2019-05-18T23:14:57.074Z|IT001.shire.com|IT001$         |pgustavo      |C:\\Windows\\System32\\net.exe|net user /add backdoor paw0rd1|172.18.39.106|\n",
      "+------------------------+---------------+---------------+--------------+---------------------------+------------------------------+-------------+\n",
      "\n"
     ]
    }
   ],
   "source": [
    "security_4688_4624 = spark.sql(\n",
    "    '''\n",
    "    SELECT o.`@timestamp`, o.computer_name, o.SubjectUserName, o.TargetUserName, o.NewProcessName, o.CommandLine, a.IpAddress\n",
    "    FROM mordor_file o\n",
    "    INNER JOIN (\n",
    "        SELECT computer_name,TargetUserName,TargetLogonId,IpAddress\n",
    "        FROM mordor_file\n",
    "        WHERE channel = \"Security\"\n",
    "            AND LogonType = 3\n",
    "            AND IpAddress is not null\n",
    "            AND NOT TargetUserName LIKE \"%$\"\n",
    "        ) a\n",
    "    ON o.TargetLogonId = a.TargetLogonId\n",
    "    WHERE o.channel = \"Security\"\n",
    "        AND o.event_id = 4688\n",
    "        AND lower(o.ParentProcessName) LIKE \"%wmiprvse.exe\"\n",
    "        AND NOT o.TargetLogonId = \"0x3e7\"\n",
    "    '''\n",
    ")\n",
    "security_4688_4624.show(10,False)"
   ]
  },
  {
   "cell_type": "markdown",
   "metadata": {},
   "source": [
    "## Detection Blind Spots\n",
    "\n",
    "## Hunter Notes\n",
    "\n",
    "* Stack the child processes of wmiprvse.exe in your environment. This is very helpful to reduce the number of false positive and understand your environment. You can categorize the data returned by business unit.\n",
    "* Look for wmiprvse.exe spawning new processes that are part of a network type logon session.\n",
    "* Enrich events with Network Logon events (4624 - Logon Type 3)\n",
    "\n",
    "## Hunt Output\n",
    "\n",
    "| Category | Type | Name |\n",
    "|--------|---------|---------|\n",
    "| Signature | Sigma Rule | [sysmon_wmiprvse_spawning_process.yml](https://github.com/Cyb3rWard0g/ThreatHunter-Playbook/tree/master/signatures/sigma/sysmon_wmiprvse_spawning_process.yml) |\n",
    "| Signature | Sigma Rule | [win_wmiprvse_spawning_process.yml](https://github.com/Cyb3rWard0g/ThreatHunter-Playbook/tree/master/signatures/sigma/win_wmiprvse_spawning_process.yml) |\n",
    "\n",
    "## References\n",
    "\n",
    "* https://posts.specterops.io/threat-hunting-with-jupyter-notebooks-part-4-sql-join-via-apache-sparksql-6630928c931e\n",
    "* https://posts.specterops.io/real-time-sysmon-processing-via-ksql-and-helk-part-3-basic-use-case-8fbf383cb54f\n",
    "* https://www.youtube.com/watch?v=iiaPeXEn5_E"
   ]
  },
  {
   "cell_type": "code",
   "execution_count": null,
   "metadata": {},
   "outputs": [],
   "source": []
  }
 ],
 "metadata": {
  "kernelspec": {
   "display_name": "PySpark_Python3",
   "language": "python",
   "name": "pyspark3"
  },
  "language_info": {
   "codemirror_mode": {
    "name": "ipython",
    "version": 3
   },
   "file_extension": ".py",
   "mimetype": "text/x-python",
   "name": "python",
   "nbconvert_exporter": "python",
   "pygments_lexer": "ipython3",
   "version": "3.7.3"
  }
 },
 "nbformat": 4,
 "nbformat_minor": 4
}
